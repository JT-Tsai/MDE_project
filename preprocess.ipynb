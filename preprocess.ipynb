{
 "cells": [
  {
   "cell_type": "code",
   "execution_count": 1,
   "metadata": {},
   "outputs": [],
   "source": [
    "import os\n",
    "import imageio.v2 as imageio\n",
    "from tqdm import tqdm"
   ]
  },
  {
   "cell_type": "code",
   "execution_count": 2,
   "metadata": {},
   "outputs": [
    {
     "name": "stdout",
     "output_type": "stream",
     "text": [
      "['data/coz_data/train_HR\\\\1.JPG', 'data/coz_data/train_HR\\\\10.JPG', 'data/coz_data/train_HR\\\\100.JPG', 'data/coz_data/train_HR\\\\101.JPG', 'data/coz_data/train_HR\\\\102.JPG', 'data/coz_data/train_HR\\\\103.JPG', 'data/coz_data/train_HR\\\\104.JPG', 'data/coz_data/train_HR\\\\105.JPG', 'data/coz_data/train_HR\\\\106.JPG', 'data/coz_data/train_HR\\\\107.JPG', 'data/coz_data/train_HR\\\\108.JPG', 'data/coz_data/train_HR\\\\109.JPG', 'data/coz_data/train_HR\\\\11.JPG', 'data/coz_data/train_HR\\\\110.JPG', 'data/coz_data/train_HR\\\\111.JPG', 'data/coz_data/train_HR\\\\112.JPG', 'data/coz_data/train_HR\\\\113.JPG', 'data/coz_data/train_HR\\\\114.JPG', 'data/coz_data/train_HR\\\\115.JPG', 'data/coz_data/train_HR\\\\116.JPG', 'data/coz_data/train_HR\\\\117.JPG', 'data/coz_data/train_HR\\\\118.JPG', 'data/coz_data/train_HR\\\\119.JPG', 'data/coz_data/train_HR\\\\12.JPG', 'data/coz_data/train_HR\\\\120.JPG', 'data/coz_data/train_HR\\\\121.JPG', 'data/coz_data/train_HR\\\\122.JPG', 'data/coz_data/train_HR\\\\123.JPG', 'data/coz_data/train_HR\\\\124.JPG', 'data/coz_data/train_HR\\\\125.JPG', 'data/coz_data/train_HR\\\\126.JPG', 'data/coz_data/train_HR\\\\127.JPG', 'data/coz_data/train_HR\\\\128.JPG', 'data/coz_data/train_HR\\\\129.JPG', 'data/coz_data/train_HR\\\\13.JPG', 'data/coz_data/train_HR\\\\130.JPG', 'data/coz_data/train_HR\\\\131.JPG', 'data/coz_data/train_HR\\\\132.JPG', 'data/coz_data/train_HR\\\\133.JPG', 'data/coz_data/train_HR\\\\134.JPG', 'data/coz_data/train_HR\\\\135.JPG', 'data/coz_data/train_HR\\\\136.JPG', 'data/coz_data/train_HR\\\\137.JPG', 'data/coz_data/train_HR\\\\138.JPG', 'data/coz_data/train_HR\\\\139.JPG', 'data/coz_data/train_HR\\\\14.JPG', 'data/coz_data/train_HR\\\\140.JPG', 'data/coz_data/train_HR\\\\141.JPG', 'data/coz_data/train_HR\\\\142.JPG', 'data/coz_data/train_HR\\\\143.JPG', 'data/coz_data/train_HR\\\\144.JPG', 'data/coz_data/train_HR\\\\145.JPG', 'data/coz_data/train_HR\\\\146.JPG', 'data/coz_data/train_HR\\\\147.JPG', 'data/coz_data/train_HR\\\\148.JPG', 'data/coz_data/train_HR\\\\149.JPG', 'data/coz_data/train_HR\\\\15.JPG', 'data/coz_data/train_HR\\\\150.JPG', 'data/coz_data/train_HR\\\\151.JPG', 'data/coz_data/train_HR\\\\152.JPG', 'data/coz_data/train_HR\\\\153.JPG', 'data/coz_data/train_HR\\\\16.JPG', 'data/coz_data/train_HR\\\\17.JPG', 'data/coz_data/train_HR\\\\18.JPG', 'data/coz_data/train_HR\\\\19.JPG', 'data/coz_data/train_HR\\\\2.JPG', 'data/coz_data/train_HR\\\\20.JPG', 'data/coz_data/train_HR\\\\21.JPG', 'data/coz_data/train_HR\\\\22.JPG', 'data/coz_data/train_HR\\\\23.JPG', 'data/coz_data/train_HR\\\\24.JPG', 'data/coz_data/train_HR\\\\25.JPG', 'data/coz_data/train_HR\\\\26.JPG', 'data/coz_data/train_HR\\\\27.JPG', 'data/coz_data/train_HR\\\\28.JPG', 'data/coz_data/train_HR\\\\29.JPG', 'data/coz_data/train_HR\\\\3.JPG', 'data/coz_data/train_HR\\\\30.JPG', 'data/coz_data/train_HR\\\\31.JPG', 'data/coz_data/train_HR\\\\32.JPG', 'data/coz_data/train_HR\\\\33.JPG', 'data/coz_data/train_HR\\\\34.JPG', 'data/coz_data/train_HR\\\\35.JPG', 'data/coz_data/train_HR\\\\36.JPG', 'data/coz_data/train_HR\\\\37.JPG', 'data/coz_data/train_HR\\\\38.JPG', 'data/coz_data/train_HR\\\\39.JPG', 'data/coz_data/train_HR\\\\4.JPG', 'data/coz_data/train_HR\\\\40.JPG', 'data/coz_data/train_HR\\\\41.JPG', 'data/coz_data/train_HR\\\\42.JPG', 'data/coz_data/train_HR\\\\43.JPG', 'data/coz_data/train_HR\\\\44.JPG', 'data/coz_data/train_HR\\\\45.JPG', 'data/coz_data/train_HR\\\\46.JPG', 'data/coz_data/train_HR\\\\47.JPG', 'data/coz_data/train_HR\\\\48.JPG', 'data/coz_data/train_HR\\\\49.JPG', 'data/coz_data/train_HR\\\\5.JPG', 'data/coz_data/train_HR\\\\50.JPG', 'data/coz_data/train_HR\\\\51.JPG', 'data/coz_data/train_HR\\\\52.JPG', 'data/coz_data/train_HR\\\\53.JPG', 'data/coz_data/train_HR\\\\54.JPG', 'data/coz_data/train_HR\\\\55.JPG', 'data/coz_data/train_HR\\\\56.JPG', 'data/coz_data/train_HR\\\\57.JPG', 'data/coz_data/train_HR\\\\58.JPG', 'data/coz_data/train_HR\\\\59.JPG', 'data/coz_data/train_HR\\\\6.JPG', 'data/coz_data/train_HR\\\\60.JPG', 'data/coz_data/train_HR\\\\61.JPG', 'data/coz_data/train_HR\\\\62.JPG', 'data/coz_data/train_HR\\\\63.JPG', 'data/coz_data/train_HR\\\\64.JPG', 'data/coz_data/train_HR\\\\65.JPG', 'data/coz_data/train_HR\\\\66.JPG', 'data/coz_data/train_HR\\\\67.JPG', 'data/coz_data/train_HR\\\\68.JPG', 'data/coz_data/train_HR\\\\69.JPG', 'data/coz_data/train_HR\\\\7.JPG', 'data/coz_data/train_HR\\\\70.JPG', 'data/coz_data/train_HR\\\\71.JPG', 'data/coz_data/train_HR\\\\72.JPG', 'data/coz_data/train_HR\\\\73.JPG', 'data/coz_data/train_HR\\\\74.JPG', 'data/coz_data/train_HR\\\\75.JPG', 'data/coz_data/train_HR\\\\76.JPG', 'data/coz_data/train_HR\\\\77.JPG', 'data/coz_data/train_HR\\\\78.JPG', 'data/coz_data/train_HR\\\\79.JPG', 'data/coz_data/train_HR\\\\8.JPG', 'data/coz_data/train_HR\\\\80.JPG', 'data/coz_data/train_HR\\\\81.JPG', 'data/coz_data/train_HR\\\\82.JPG', 'data/coz_data/train_HR\\\\83.JPG', 'data/coz_data/train_HR\\\\84.JPG', 'data/coz_data/train_HR\\\\85.JPG', 'data/coz_data/train_HR\\\\86.JPG', 'data/coz_data/train_HR\\\\87.JPG', 'data/coz_data/train_HR\\\\88.JPG', 'data/coz_data/train_HR\\\\89.JPG', 'data/coz_data/train_HR\\\\9.JPG', 'data/coz_data/train_HR\\\\90.JPG', 'data/coz_data/train_HR\\\\91.JPG', 'data/coz_data/train_HR\\\\92.JPG', 'data/coz_data/train_HR\\\\93.JPG', 'data/coz_data/train_HR\\\\94.JPG', 'data/coz_data/train_HR\\\\95.JPG', 'data/coz_data/train_HR\\\\96.JPG', 'data/coz_data/train_HR\\\\97.JPG', 'data/coz_data/train_HR\\\\98.JPG', 'data/coz_data/train_HR\\\\99.JPG']\n",
      "153\n"
     ]
    }
   ],
   "source": [
    "HR_path = \"data/coz_data/train_HR\"\n",
    "\n",
    "HR_files = sorted(os.path.join(HR_path, i) for i in os.listdir(HR_path))\n",
    "print(HR_files)\n",
    "print(len(HR_files))"
   ]
  },
  {
   "cell_type": "code",
   "execution_count": 3,
   "metadata": {},
   "outputs": [
    {
     "name": "stdout",
     "output_type": "stream",
     "text": [
      "153\n"
     ]
    }
   ],
   "source": [
    "LR_path = \"data/coz_data/train_LR\"\n",
    "\n",
    "filename_list = []\n",
    "\n",
    "dirnames = sorted(os.listdir(LR_path))\n",
    "# print(dirnames)\n",
    "\n",
    "for dir in dirnames:\n",
    "    dir_path = os.path.join(LR_path, dir)\n",
    "    file_list = sorted(os.path.join(dir_path, filename) for filename in os.listdir(dir_path))\n",
    "    filename_list.append(file_list)\n",
    "\n",
    "print(len(filename_list))"
   ]
  },
  {
   "cell_type": "code",
   "execution_count": 4,
   "metadata": {},
   "outputs": [
    {
     "name": "stderr",
     "output_type": "stream",
     "text": [
      " 14%|█▎        | 21/153 [00:20<02:03,  1.07it/s]"
     ]
    },
    {
     "name": "stdout",
     "output_type": "stream",
     "text": [
      "0.020000000000000018\n",
      "data/coz_data/train_LR\\117\\3.8684719535783367.JPG\n"
     ]
    },
    {
     "name": "stderr",
     "output_type": "stream",
     "text": [
      " 20%|█▉        | 30/153 [00:29<01:54,  1.07it/s]"
     ]
    },
    {
     "name": "stdout",
     "output_type": "stream",
     "text": [
      "0.020000000000000018\n",
      "data/coz_data/train_LR\\125\\3.336422613531047.JPG\n"
     ]
    },
    {
     "name": "stderr",
     "output_type": "stream",
     "text": [
      " 23%|██▎       | 35/153 [00:35<02:11,  1.12s/it]"
     ]
    },
    {
     "name": "stdout",
     "output_type": "stream",
     "text": [
      "0.020000000000000018\n",
      "data/coz_data/train_LR\\13\\3.2863849765258215.JPG\n"
     ]
    },
    {
     "name": "stderr",
     "output_type": "stream",
     "text": [
      " 27%|██▋       | 42/153 [00:42<01:45,  1.06it/s]"
     ]
    },
    {
     "name": "stdout",
     "output_type": "stream",
     "text": [
      "0.020000000000000018\n",
      "data/coz_data/train_LR\\136\\3.3070866141732282.JPG\n",
      "0.020000000000000018\n",
      "data/coz_data/train_LR\\136\\3.565365025466893.JPG\n"
     ]
    },
    {
     "name": "stderr",
     "output_type": "stream",
     "text": [
      " 41%|████      | 62/153 [01:03<01:47,  1.18s/it]"
     ]
    },
    {
     "name": "stdout",
     "output_type": "stream",
     "text": [
      "0.020000000000000018\n",
      "data/coz_data/train_LR\\16\\3.62400906002265.JPG\n"
     ]
    },
    {
     "name": "stderr",
     "output_type": "stream",
     "text": [
      " 46%|████▋     | 71/153 [01:12<01:25,  1.04s/it]"
     ]
    },
    {
     "name": "stdout",
     "output_type": "stream",
     "text": [
      "0.020000000000000018\n",
      "data/coz_data/train_LR\\24\\3.872752420470263.JPG\n"
     ]
    },
    {
     "name": "stderr",
     "output_type": "stream",
     "text": [
      " 51%|█████     | 78/153 [01:20<01:27,  1.16s/it]"
     ]
    },
    {
     "name": "stdout",
     "output_type": "stream",
     "text": [
      "0.020000000000000018\n",
      "data/coz_data/train_LR\\30\\3.4739454094292803.JPG\n",
      "0.020000000000000018\n",
      "data/coz_data/train_LR\\30\\3.6842105263157894.JPG\n"
     ]
    },
    {
     "name": "stderr",
     "output_type": "stream",
     "text": [
      " 61%|██████    | 93/153 [01:35<00:43,  1.37it/s]"
     ]
    },
    {
     "name": "stdout",
     "output_type": "stream",
     "text": [
      "0.020000000000000018\n",
      "data/coz_data/train_LR\\44\\2.9453015427769986.JPG\n",
      "0.020000000000000018\n",
      "data/coz_data/train_LR\\44\\3.409090909090909.JPG\n"
     ]
    },
    {
     "name": "stderr",
     "output_type": "stream",
     "text": [
      " 61%|██████▏   | 94/153 [01:35<00:34,  1.73it/s]"
     ]
    },
    {
     "name": "stdout",
     "output_type": "stream",
     "text": [
      "0.020000000000000018\n",
      "data/coz_data/train_LR\\45\\3.4965034965034967.JPG\n",
      "0.020000000000000018\n",
      "data/coz_data/train_LR\\45\\3.5842293906810037.JPG\n",
      "0.020000000000000018\n",
      "data/coz_data/train_LR\\45\\3.9215686274509802.JPG\n"
     ]
    },
    {
     "name": "stderr",
     "output_type": "stream",
     "text": [
      " 66%|██████▌   | 101/153 [01:41<00:31,  1.66it/s]"
     ]
    },
    {
     "name": "stdout",
     "output_type": "stream",
     "text": [
      "0.020000000000000018\n",
      "data/coz_data/train_LR\\51\\3.4782608695652173.JPG\n"
     ]
    },
    {
     "name": "stderr",
     "output_type": "stream",
     "text": [
      " 67%|██████▋   | 103/153 [01:42<00:35,  1.42it/s]"
     ]
    },
    {
     "name": "stdout",
     "output_type": "stream",
     "text": [
      "0.020000000000000018\n",
      "data/coz_data/train_LR\\53\\2.4539877300613497.JPG\n",
      "0.020000000000000018\n",
      "data/coz_data/train_LR\\53\\3.3373063170441.JPG\n"
     ]
    },
    {
     "name": "stderr",
     "output_type": "stream",
     "text": [
      " 89%|████████▉ | 136/153 [02:13<00:11,  1.43it/s]"
     ]
    },
    {
     "name": "stdout",
     "output_type": "stream",
     "text": [
      "0.020000000000000018\n",
      "data/coz_data/train_LR\\83\\3.6262203626220364.JPG\n"
     ]
    },
    {
     "name": "stderr",
     "output_type": "stream",
     "text": [
      " 93%|█████████▎| 143/153 [02:20<00:10,  1.05s/it]"
     ]
    },
    {
     "name": "stdout",
     "output_type": "stream",
     "text": [
      "0.020000000000000018\n",
      "data/coz_data/train_LR\\9\\2.867383512544803.JPG\n"
     ]
    },
    {
     "name": "stderr",
     "output_type": "stream",
     "text": [
      " 94%|█████████▍| 144/153 [02:21<00:08,  1.10it/s]"
     ]
    },
    {
     "name": "stdout",
     "output_type": "stream",
     "text": [
      "0.020000000000000018\n",
      "data/coz_data/train_LR\\90\\3.6144578313253013.JPG\n"
     ]
    },
    {
     "name": "stderr",
     "output_type": "stream",
     "text": [
      " 95%|█████████▍| 145/153 [02:21<00:06,  1.17it/s]"
     ]
    },
    {
     "name": "stdout",
     "output_type": "stream",
     "text": [
      "0.020000000000000018\n",
      "data/coz_data/train_LR\\91\\3.3292231812577064.JPG\n",
      "0.020000000000000018\n",
      "data/coz_data/train_LR\\91\\3.6834924965893587.JPG\n"
     ]
    },
    {
     "name": "stderr",
     "output_type": "stream",
     "text": [
      " 99%|█████████▉| 152/153 [02:28<00:00,  1.21it/s]"
     ]
    },
    {
     "name": "stdout",
     "output_type": "stream",
     "text": [
      "0.020000000000000018\n",
      "data/coz_data/train_LR\\98\\3.7313432835820897.JPG\n"
     ]
    },
    {
     "name": "stderr",
     "output_type": "stream",
     "text": [
      "153it [02:29,  1.02it/s] [02:29<00:00,  1.01it/s]\n",
      "100%|██████████| 153/153 [02:29<00:00,  1.02it/s]\n"
     ]
    }
   ],
   "source": [
    "def Round(x):\n",
    "    return round(x, 2)\n",
    "\n",
    "eps = 0.02\n",
    "\n",
    "def ratio_test(a, b):\n",
    "    value = abs(a - b)\n",
    "    if value > eps:\n",
    "        print(value)\n",
    "        return True\n",
    "    else:\n",
    "        return False\n",
    "    \n",
    "\n",
    "with tqdm(total = len(HR_files)) as pbar:\n",
    "    for HR_path, LR_path_list in tqdm(zip(HR_files, filename_list)):\n",
    "        HR_img = imageio.imread(HR_path)\n",
    "        H, W = HR_img.shape[:2]\n",
    "        # print(H, W)\n",
    "        # print(LR_path_list)\n",
    "        for LR_path in LR_path_list:\n",
    "            ratio = os.path.splitext(os.path.basename(LR_path))[0]\n",
    "            ratio = Round(float(ratio))\n",
    "            LR_img = imageio.imread(LR_path)\n",
    "            LR_H, LR_W = LR_img.shape[:2]\n",
    "            if ratio_test(ratio, Round(H/LR_H)) or ratio_test(ratio, Round(W/LR_W)):\n",
    "                print(LR_path)\n",
    "            # print(ratio)\n",
    "            # print(LR_H, LR_W)\n",
    "        pbar.update(1)\n"
   ]
  },
  {
   "cell_type": "code",
   "execution_count": 15,
   "metadata": {},
   "outputs": [
    {
     "name": "stderr",
     "output_type": "stream",
     "text": [
      "100%|██████████| 153/153 [00:00<00:00, 1862.63it/s]\n"
     ]
    }
   ],
   "source": [
    "import shutil\n",
    "\n",
    "# print(HR_files)\n",
    "with tqdm(total = len(HR_files)) as pbar:\n",
    "    for HR_file in HR_files:\n",
    "        new_path = HR_file.replace('train_HR', 'train_LR')\n",
    "        basename = os.path.basename(new_path)\n",
    "        dir = os.path.dirname(new_path)\n",
    "        new_path = os.path.join(dir, f'{basename.split(\".\")[0]}', '1.JPG')\n",
    "        # print(new_path)\n",
    "        shutil.move(HR_file, new_path)\n",
    "        pbar.update(1)"
   ]
  }
 ],
 "metadata": {
  "kernelspec": {
   "display_name": "Python 3",
   "language": "python",
   "name": "python3"
  },
  "language_info": {
   "codemirror_mode": {
    "name": "ipython",
    "version": 3
   },
   "file_extension": ".py",
   "mimetype": "text/x-python",
   "name": "python",
   "nbconvert_exporter": "python",
   "pygments_lexer": "ipython3",
   "version": "3.10.0"
  }
 },
 "nbformat": 4,
 "nbformat_minor": 2
}
